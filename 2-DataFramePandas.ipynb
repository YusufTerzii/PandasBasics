{
 "cells": [
  {
   "cell_type": "code",
   "execution_count": 1,
   "id": "94f38138",
   "metadata": {},
   "outputs": [],
   "source": [
    "import pandas as pd\n",
    "import numpy as np"
   ]
  },
  {
   "cell_type": "code",
   "execution_count": 9,
   "id": "fb7f93d4",
   "metadata": {},
   "outputs": [],
   "source": [
    "data = np.random.randn(4,3)"
   ]
  },
  {
   "cell_type": "code",
   "execution_count": 11,
   "id": "8ca63516",
   "metadata": {},
   "outputs": [
    {
     "data": {
      "text/plain": [
       "array([[ 0.41954009, -2.48929798, -0.409326  ],\n",
       "       [ 1.17629814,  0.76028203, -0.5466544 ],\n",
       "       [-0.73142213, -0.38407364,  0.97882712],\n",
       "       [ 0.28224611,  1.06798716, -0.45321711]])"
      ]
     },
     "execution_count": 11,
     "metadata": {},
     "output_type": "execute_result"
    }
   ],
   "source": [
    "data"
   ]
  },
  {
   "cell_type": "code",
   "execution_count": 14,
   "id": "01788939",
   "metadata": {},
   "outputs": [],
   "source": [
    "dataFrame = pd.DataFrame(data)"
   ]
  },
  {
   "cell_type": "code",
   "execution_count": 19,
   "id": "a9a1c0eb",
   "metadata": {},
   "outputs": [
    {
     "data": {
      "text/html": [
       "<div>\n",
       "<style scoped>\n",
       "    .dataframe tbody tr th:only-of-type {\n",
       "        vertical-align: middle;\n",
       "    }\n",
       "\n",
       "    .dataframe tbody tr th {\n",
       "        vertical-align: top;\n",
       "    }\n",
       "\n",
       "    .dataframe thead th {\n",
       "        text-align: right;\n",
       "    }\n",
       "</style>\n",
       "<table border=\"1\" class=\"dataframe\">\n",
       "  <thead>\n",
       "    <tr style=\"text-align: right;\">\n",
       "      <th></th>\n",
       "      <th>0</th>\n",
       "      <th>1</th>\n",
       "      <th>2</th>\n",
       "    </tr>\n",
       "  </thead>\n",
       "  <tbody>\n",
       "    <tr>\n",
       "      <th>0</th>\n",
       "      <td>0.419540</td>\n",
       "      <td>-2.489298</td>\n",
       "      <td>-0.409326</td>\n",
       "    </tr>\n",
       "    <tr>\n",
       "      <th>1</th>\n",
       "      <td>1.176298</td>\n",
       "      <td>0.760282</td>\n",
       "      <td>-0.546654</td>\n",
       "    </tr>\n",
       "    <tr>\n",
       "      <th>2</th>\n",
       "      <td>-0.731422</td>\n",
       "      <td>-0.384074</td>\n",
       "      <td>0.978827</td>\n",
       "    </tr>\n",
       "    <tr>\n",
       "      <th>3</th>\n",
       "      <td>0.282246</td>\n",
       "      <td>1.067987</td>\n",
       "      <td>-0.453217</td>\n",
       "    </tr>\n",
       "  </tbody>\n",
       "</table>\n",
       "</div>"
      ],
      "text/plain": [
       "          0         1         2\n",
       "0  0.419540 -2.489298 -0.409326\n",
       "1  1.176298  0.760282 -0.546654\n",
       "2 -0.731422 -0.384074  0.978827\n",
       "3  0.282246  1.067987 -0.453217"
      ]
     },
     "execution_count": 19,
     "metadata": {},
     "output_type": "execute_result"
    }
   ],
   "source": [
    "dataFrame"
   ]
  },
  {
   "cell_type": "code",
   "execution_count": 20,
   "id": "164d3e30",
   "metadata": {},
   "outputs": [
    {
     "data": {
      "text/plain": [
       "0   -2.489298\n",
       "1    0.760282\n",
       "2   -0.384074\n",
       "3    1.067987\n",
       "Name: 1, dtype: float64"
      ]
     },
     "execution_count": 20,
     "metadata": {},
     "output_type": "execute_result"
    }
   ],
   "source": [
    "dataFrame[1]"
   ]
  },
  {
   "cell_type": "code",
   "execution_count": 36,
   "id": "32907648",
   "metadata": {},
   "outputs": [],
   "source": [
    "yeniDataFrame = pd.DataFrame(data, index=[\"Atil\",\"Zeynep\",\"Atlas\",\"Mehmet\"], columns=[\"Maas\",\"Yas\",\"Calisma Saati\"])"
   ]
  },
  {
   "cell_type": "code",
   "execution_count": 37,
   "id": "6c328f05",
   "metadata": {},
   "outputs": [
    {
     "data": {
      "text/html": [
       "<div>\n",
       "<style scoped>\n",
       "    .dataframe tbody tr th:only-of-type {\n",
       "        vertical-align: middle;\n",
       "    }\n",
       "\n",
       "    .dataframe tbody tr th {\n",
       "        vertical-align: top;\n",
       "    }\n",
       "\n",
       "    .dataframe thead th {\n",
       "        text-align: right;\n",
       "    }\n",
       "</style>\n",
       "<table border=\"1\" class=\"dataframe\">\n",
       "  <thead>\n",
       "    <tr style=\"text-align: right;\">\n",
       "      <th></th>\n",
       "      <th>Maas</th>\n",
       "      <th>Yas</th>\n",
       "      <th>Calisma Saati</th>\n",
       "    </tr>\n",
       "  </thead>\n",
       "  <tbody>\n",
       "    <tr>\n",
       "      <th>Atil</th>\n",
       "      <td>0.419540</td>\n",
       "      <td>-2.489298</td>\n",
       "      <td>-0.409326</td>\n",
       "    </tr>\n",
       "    <tr>\n",
       "      <th>Zeynep</th>\n",
       "      <td>1.176298</td>\n",
       "      <td>0.760282</td>\n",
       "      <td>-0.546654</td>\n",
       "    </tr>\n",
       "    <tr>\n",
       "      <th>Atlas</th>\n",
       "      <td>-0.731422</td>\n",
       "      <td>-0.384074</td>\n",
       "      <td>0.978827</td>\n",
       "    </tr>\n",
       "    <tr>\n",
       "      <th>Mehmet</th>\n",
       "      <td>0.282246</td>\n",
       "      <td>1.067987</td>\n",
       "      <td>-0.453217</td>\n",
       "    </tr>\n",
       "  </tbody>\n",
       "</table>\n",
       "</div>"
      ],
      "text/plain": [
       "            Maas       Yas  Calisma Saati\n",
       "Atil    0.419540 -2.489298      -0.409326\n",
       "Zeynep  1.176298  0.760282      -0.546654\n",
       "Atlas  -0.731422 -0.384074       0.978827\n",
       "Mehmet  0.282246  1.067987      -0.453217"
      ]
     },
     "execution_count": 37,
     "metadata": {},
     "output_type": "execute_result"
    }
   ],
   "source": [
    "yeniDataFrame"
   ]
  },
  {
   "cell_type": "code",
   "execution_count": 38,
   "id": "3ff5c04e",
   "metadata": {},
   "outputs": [
    {
     "data": {
      "text/plain": [
       "Maas             0.419540\n",
       "Yas             -2.489298\n",
       "Calisma Saati   -0.409326\n",
       "Name: Atil, dtype: float64"
      ]
     },
     "execution_count": 38,
     "metadata": {},
     "output_type": "execute_result"
    }
   ],
   "source": [
    "yeniDataFrame.loc[\"Atil\"] ##row seçmek için"
   ]
  },
  {
   "cell_type": "code",
   "execution_count": 39,
   "id": "74afa504",
   "metadata": {},
   "outputs": [
    {
     "data": {
      "text/plain": [
       "Maas             0.419540\n",
       "Yas             -2.489298\n",
       "Calisma Saati   -0.409326\n",
       "Name: Atil, dtype: float64"
      ]
     },
     "execution_count": 39,
     "metadata": {},
     "output_type": "execute_result"
    }
   ],
   "source": [
    "yeniDataFrame.iloc[0]"
   ]
  },
  {
   "cell_type": "code",
   "execution_count": 40,
   "id": "b70fd178",
   "metadata": {},
   "outputs": [
    {
     "data": {
      "text/html": [
       "<div>\n",
       "<style scoped>\n",
       "    .dataframe tbody tr th:only-of-type {\n",
       "        vertical-align: middle;\n",
       "    }\n",
       "\n",
       "    .dataframe tbody tr th {\n",
       "        vertical-align: top;\n",
       "    }\n",
       "\n",
       "    .dataframe thead th {\n",
       "        text-align: right;\n",
       "    }\n",
       "</style>\n",
       "<table border=\"1\" class=\"dataframe\">\n",
       "  <thead>\n",
       "    <tr style=\"text-align: right;\">\n",
       "      <th></th>\n",
       "      <th>Maas</th>\n",
       "      <th>Yas</th>\n",
       "      <th>Calisma Saati</th>\n",
       "    </tr>\n",
       "  </thead>\n",
       "  <tbody>\n",
       "    <tr>\n",
       "      <th>Atil</th>\n",
       "      <td>0.419540</td>\n",
       "      <td>-2.489298</td>\n",
       "      <td>-0.409326</td>\n",
       "    </tr>\n",
       "    <tr>\n",
       "      <th>Zeynep</th>\n",
       "      <td>1.176298</td>\n",
       "      <td>0.760282</td>\n",
       "      <td>-0.546654</td>\n",
       "    </tr>\n",
       "    <tr>\n",
       "      <th>Atlas</th>\n",
       "      <td>-0.731422</td>\n",
       "      <td>-0.384074</td>\n",
       "      <td>0.978827</td>\n",
       "    </tr>\n",
       "    <tr>\n",
       "      <th>Mehmet</th>\n",
       "      <td>0.282246</td>\n",
       "      <td>1.067987</td>\n",
       "      <td>-0.453217</td>\n",
       "    </tr>\n",
       "  </tbody>\n",
       "</table>\n",
       "</div>"
      ],
      "text/plain": [
       "            Maas       Yas  Calisma Saati\n",
       "Atil    0.419540 -2.489298      -0.409326\n",
       "Zeynep  1.176298  0.760282      -0.546654\n",
       "Atlas  -0.731422 -0.384074       0.978827\n",
       "Mehmet  0.282246  1.067987      -0.453217"
      ]
     },
     "execution_count": 40,
     "metadata": {},
     "output_type": "execute_result"
    }
   ],
   "source": [
    "yeniDataFrame"
   ]
  },
  {
   "cell_type": "code",
   "execution_count": 41,
   "id": "fc91d6a5",
   "metadata": {},
   "outputs": [],
   "source": [
    "yeniDataFrame[\"Emeklilik Yasi\"] = yeniDataFrame[\"Yas\"] + yeniDataFrame[\"Yas\"] ## yeni kolon ekleme"
   ]
  },
  {
   "cell_type": "code",
   "execution_count": 42,
   "id": "1c2b3b81",
   "metadata": {},
   "outputs": [
    {
     "data": {
      "text/html": [
       "<div>\n",
       "<style scoped>\n",
       "    .dataframe tbody tr th:only-of-type {\n",
       "        vertical-align: middle;\n",
       "    }\n",
       "\n",
       "    .dataframe tbody tr th {\n",
       "        vertical-align: top;\n",
       "    }\n",
       "\n",
       "    .dataframe thead th {\n",
       "        text-align: right;\n",
       "    }\n",
       "</style>\n",
       "<table border=\"1\" class=\"dataframe\">\n",
       "  <thead>\n",
       "    <tr style=\"text-align: right;\">\n",
       "      <th></th>\n",
       "      <th>Maas</th>\n",
       "      <th>Yas</th>\n",
       "      <th>Calisma Saati</th>\n",
       "      <th>Emeklilik Yasi</th>\n",
       "    </tr>\n",
       "  </thead>\n",
       "  <tbody>\n",
       "    <tr>\n",
       "      <th>Atil</th>\n",
       "      <td>0.419540</td>\n",
       "      <td>-2.489298</td>\n",
       "      <td>-0.409326</td>\n",
       "      <td>-4.978596</td>\n",
       "    </tr>\n",
       "    <tr>\n",
       "      <th>Zeynep</th>\n",
       "      <td>1.176298</td>\n",
       "      <td>0.760282</td>\n",
       "      <td>-0.546654</td>\n",
       "      <td>1.520564</td>\n",
       "    </tr>\n",
       "    <tr>\n",
       "      <th>Atlas</th>\n",
       "      <td>-0.731422</td>\n",
       "      <td>-0.384074</td>\n",
       "      <td>0.978827</td>\n",
       "      <td>-0.768147</td>\n",
       "    </tr>\n",
       "    <tr>\n",
       "      <th>Mehmet</th>\n",
       "      <td>0.282246</td>\n",
       "      <td>1.067987</td>\n",
       "      <td>-0.453217</td>\n",
       "      <td>2.135974</td>\n",
       "    </tr>\n",
       "  </tbody>\n",
       "</table>\n",
       "</div>"
      ],
      "text/plain": [
       "            Maas       Yas  Calisma Saati  Emeklilik Yasi\n",
       "Atil    0.419540 -2.489298      -0.409326       -4.978596\n",
       "Zeynep  1.176298  0.760282      -0.546654        1.520564\n",
       "Atlas  -0.731422 -0.384074       0.978827       -0.768147\n",
       "Mehmet  0.282246  1.067987      -0.453217        2.135974"
      ]
     },
     "execution_count": 42,
     "metadata": {},
     "output_type": "execute_result"
    }
   ],
   "source": [
    "yeniDataFrame"
   ]
  },
  {
   "cell_type": "code",
   "execution_count": 44,
   "id": "24c3e7b1",
   "metadata": {},
   "outputs": [
    {
     "data": {
      "text/html": [
       "<div>\n",
       "<style scoped>\n",
       "    .dataframe tbody tr th:only-of-type {\n",
       "        vertical-align: middle;\n",
       "    }\n",
       "\n",
       "    .dataframe tbody tr th {\n",
       "        vertical-align: top;\n",
       "    }\n",
       "\n",
       "    .dataframe thead th {\n",
       "        text-align: right;\n",
       "    }\n",
       "</style>\n",
       "<table border=\"1\" class=\"dataframe\">\n",
       "  <thead>\n",
       "    <tr style=\"text-align: right;\">\n",
       "      <th></th>\n",
       "      <th>Maas</th>\n",
       "      <th>Yas</th>\n",
       "      <th>Calisma Saati</th>\n",
       "    </tr>\n",
       "  </thead>\n",
       "  <tbody>\n",
       "    <tr>\n",
       "      <th>Atil</th>\n",
       "      <td>0.419540</td>\n",
       "      <td>-2.489298</td>\n",
       "      <td>-0.409326</td>\n",
       "    </tr>\n",
       "    <tr>\n",
       "      <th>Zeynep</th>\n",
       "      <td>1.176298</td>\n",
       "      <td>0.760282</td>\n",
       "      <td>-0.546654</td>\n",
       "    </tr>\n",
       "    <tr>\n",
       "      <th>Atlas</th>\n",
       "      <td>-0.731422</td>\n",
       "      <td>-0.384074</td>\n",
       "      <td>0.978827</td>\n",
       "    </tr>\n",
       "    <tr>\n",
       "      <th>Mehmet</th>\n",
       "      <td>0.282246</td>\n",
       "      <td>1.067987</td>\n",
       "      <td>-0.453217</td>\n",
       "    </tr>\n",
       "  </tbody>\n",
       "</table>\n",
       "</div>"
      ],
      "text/plain": [
       "            Maas       Yas  Calisma Saati\n",
       "Atil    0.419540 -2.489298      -0.409326\n",
       "Zeynep  1.176298  0.760282      -0.546654\n",
       "Atlas  -0.731422 -0.384074       0.978827\n",
       "Mehmet  0.282246  1.067987      -0.453217"
      ]
     },
     "execution_count": 44,
     "metadata": {},
     "output_type": "execute_result"
    }
   ],
   "source": [
    "yeniDataFrame.drop(\"Emeklilik Yasi\", axis=1)"
   ]
  },
  {
   "cell_type": "code",
   "execution_count": 45,
   "id": "cb899849",
   "metadata": {},
   "outputs": [
    {
     "data": {
      "text/html": [
       "<div>\n",
       "<style scoped>\n",
       "    .dataframe tbody tr th:only-of-type {\n",
       "        vertical-align: middle;\n",
       "    }\n",
       "\n",
       "    .dataframe tbody tr th {\n",
       "        vertical-align: top;\n",
       "    }\n",
       "\n",
       "    .dataframe thead th {\n",
       "        text-align: right;\n",
       "    }\n",
       "</style>\n",
       "<table border=\"1\" class=\"dataframe\">\n",
       "  <thead>\n",
       "    <tr style=\"text-align: right;\">\n",
       "      <th></th>\n",
       "      <th>Maas</th>\n",
       "      <th>Yas</th>\n",
       "      <th>Calisma Saati</th>\n",
       "      <th>Emeklilik Yasi</th>\n",
       "    </tr>\n",
       "  </thead>\n",
       "  <tbody>\n",
       "    <tr>\n",
       "      <th>Atil</th>\n",
       "      <td>0.419540</td>\n",
       "      <td>-2.489298</td>\n",
       "      <td>-0.409326</td>\n",
       "      <td>-4.978596</td>\n",
       "    </tr>\n",
       "    <tr>\n",
       "      <th>Zeynep</th>\n",
       "      <td>1.176298</td>\n",
       "      <td>0.760282</td>\n",
       "      <td>-0.546654</td>\n",
       "      <td>1.520564</td>\n",
       "    </tr>\n",
       "    <tr>\n",
       "      <th>Atlas</th>\n",
       "      <td>-0.731422</td>\n",
       "      <td>-0.384074</td>\n",
       "      <td>0.978827</td>\n",
       "      <td>-0.768147</td>\n",
       "    </tr>\n",
       "  </tbody>\n",
       "</table>\n",
       "</div>"
      ],
      "text/plain": [
       "            Maas       Yas  Calisma Saati  Emeklilik Yasi\n",
       "Atil    0.419540 -2.489298      -0.409326       -4.978596\n",
       "Zeynep  1.176298  0.760282      -0.546654        1.520564\n",
       "Atlas  -0.731422 -0.384074       0.978827       -0.768147"
      ]
     },
     "execution_count": 45,
     "metadata": {},
     "output_type": "execute_result"
    }
   ],
   "source": [
    "yeniDataFrame.drop(\"Mehmet\", axis=0)# bunda axis yazmasanda siliyor"
   ]
  },
  {
   "cell_type": "code",
   "execution_count": 46,
   "id": "2f95078a",
   "metadata": {},
   "outputs": [
    {
     "data": {
      "text/html": [
       "<div>\n",
       "<style scoped>\n",
       "    .dataframe tbody tr th:only-of-type {\n",
       "        vertical-align: middle;\n",
       "    }\n",
       "\n",
       "    .dataframe tbody tr th {\n",
       "        vertical-align: top;\n",
       "    }\n",
       "\n",
       "    .dataframe thead th {\n",
       "        text-align: right;\n",
       "    }\n",
       "</style>\n",
       "<table border=\"1\" class=\"dataframe\">\n",
       "  <thead>\n",
       "    <tr style=\"text-align: right;\">\n",
       "      <th></th>\n",
       "      <th>Maas</th>\n",
       "      <th>Yas</th>\n",
       "      <th>Calisma Saati</th>\n",
       "      <th>Emeklilik Yasi</th>\n",
       "    </tr>\n",
       "  </thead>\n",
       "  <tbody>\n",
       "    <tr>\n",
       "      <th>Atil</th>\n",
       "      <td>0.419540</td>\n",
       "      <td>-2.489298</td>\n",
       "      <td>-0.409326</td>\n",
       "      <td>-4.978596</td>\n",
       "    </tr>\n",
       "    <tr>\n",
       "      <th>Zeynep</th>\n",
       "      <td>1.176298</td>\n",
       "      <td>0.760282</td>\n",
       "      <td>-0.546654</td>\n",
       "      <td>1.520564</td>\n",
       "    </tr>\n",
       "    <tr>\n",
       "      <th>Atlas</th>\n",
       "      <td>-0.731422</td>\n",
       "      <td>-0.384074</td>\n",
       "      <td>0.978827</td>\n",
       "      <td>-0.768147</td>\n",
       "    </tr>\n",
       "    <tr>\n",
       "      <th>Mehmet</th>\n",
       "      <td>0.282246</td>\n",
       "      <td>1.067987</td>\n",
       "      <td>-0.453217</td>\n",
       "      <td>2.135974</td>\n",
       "    </tr>\n",
       "  </tbody>\n",
       "</table>\n",
       "</div>"
      ],
      "text/plain": [
       "            Maas       Yas  Calisma Saati  Emeklilik Yasi\n",
       "Atil    0.419540 -2.489298      -0.409326       -4.978596\n",
       "Zeynep  1.176298  0.760282      -0.546654        1.520564\n",
       "Atlas  -0.731422 -0.384074       0.978827       -0.768147\n",
       "Mehmet  0.282246  1.067987      -0.453217        2.135974"
      ]
     },
     "execution_count": 46,
     "metadata": {},
     "output_type": "execute_result"
    }
   ],
   "source": [
    "yeniDataFrame"
   ]
  },
  {
   "cell_type": "code",
   "execution_count": 47,
   "id": "5f27eae2",
   "metadata": {},
   "outputs": [],
   "source": [
    "yeniDataFrame.drop(\"Emeklilik Yasi\", axis=1 , inplace=True)"
   ]
  },
  {
   "cell_type": "code",
   "execution_count": 48,
   "id": "2a9781cb",
   "metadata": {},
   "outputs": [
    {
     "data": {
      "text/html": [
       "<div>\n",
       "<style scoped>\n",
       "    .dataframe tbody tr th:only-of-type {\n",
       "        vertical-align: middle;\n",
       "    }\n",
       "\n",
       "    .dataframe tbody tr th {\n",
       "        vertical-align: top;\n",
       "    }\n",
       "\n",
       "    .dataframe thead th {\n",
       "        text-align: right;\n",
       "    }\n",
       "</style>\n",
       "<table border=\"1\" class=\"dataframe\">\n",
       "  <thead>\n",
       "    <tr style=\"text-align: right;\">\n",
       "      <th></th>\n",
       "      <th>Maas</th>\n",
       "      <th>Yas</th>\n",
       "      <th>Calisma Saati</th>\n",
       "    </tr>\n",
       "  </thead>\n",
       "  <tbody>\n",
       "    <tr>\n",
       "      <th>Atil</th>\n",
       "      <td>0.419540</td>\n",
       "      <td>-2.489298</td>\n",
       "      <td>-0.409326</td>\n",
       "    </tr>\n",
       "    <tr>\n",
       "      <th>Zeynep</th>\n",
       "      <td>1.176298</td>\n",
       "      <td>0.760282</td>\n",
       "      <td>-0.546654</td>\n",
       "    </tr>\n",
       "    <tr>\n",
       "      <th>Atlas</th>\n",
       "      <td>-0.731422</td>\n",
       "      <td>-0.384074</td>\n",
       "      <td>0.978827</td>\n",
       "    </tr>\n",
       "    <tr>\n",
       "      <th>Mehmet</th>\n",
       "      <td>0.282246</td>\n",
       "      <td>1.067987</td>\n",
       "      <td>-0.453217</td>\n",
       "    </tr>\n",
       "  </tbody>\n",
       "</table>\n",
       "</div>"
      ],
      "text/plain": [
       "            Maas       Yas  Calisma Saati\n",
       "Atil    0.419540 -2.489298      -0.409326\n",
       "Zeynep  1.176298  0.760282      -0.546654\n",
       "Atlas  -0.731422 -0.384074       0.978827\n",
       "Mehmet  0.282246  1.067987      -0.453217"
      ]
     },
     "execution_count": 48,
     "metadata": {},
     "output_type": "execute_result"
    }
   ],
   "source": [
    "yeniDataFrame"
   ]
  },
  {
   "cell_type": "code",
   "execution_count": 50,
   "id": "7b40bf51",
   "metadata": {},
   "outputs": [
    {
     "data": {
      "text/plain": [
       "-2.489297984181491"
      ]
     },
     "execution_count": 50,
     "metadata": {},
     "output_type": "execute_result"
    }
   ],
   "source": [
    "yeniDataFrame.loc[\"Atil\"][\"Yas\"]"
   ]
  },
  {
   "cell_type": "code",
   "execution_count": 51,
   "id": "da050b30",
   "metadata": {},
   "outputs": [
    {
     "data": {
      "text/plain": [
       "-2.489297984181491"
      ]
     },
     "execution_count": 51,
     "metadata": {},
     "output_type": "execute_result"
    }
   ],
   "source": [
    "yeniDataFrame.loc[\"Atil\",\"Yas\"]"
   ]
  },
  {
   "cell_type": "code",
   "execution_count": 53,
   "id": "9373fec2",
   "metadata": {},
   "outputs": [
    {
     "data": {
      "text/html": [
       "<div>\n",
       "<style scoped>\n",
       "    .dataframe tbody tr th:only-of-type {\n",
       "        vertical-align: middle;\n",
       "    }\n",
       "\n",
       "    .dataframe tbody tr th {\n",
       "        vertical-align: top;\n",
       "    }\n",
       "\n",
       "    .dataframe thead th {\n",
       "        text-align: right;\n",
       "    }\n",
       "</style>\n",
       "<table border=\"1\" class=\"dataframe\">\n",
       "  <thead>\n",
       "    <tr style=\"text-align: right;\">\n",
       "      <th></th>\n",
       "      <th>Maas</th>\n",
       "      <th>Yas</th>\n",
       "      <th>Calisma Saati</th>\n",
       "    </tr>\n",
       "  </thead>\n",
       "  <tbody>\n",
       "    <tr>\n",
       "      <th>Atil</th>\n",
       "      <td>False</td>\n",
       "      <td>True</td>\n",
       "      <td>True</td>\n",
       "    </tr>\n",
       "    <tr>\n",
       "      <th>Zeynep</th>\n",
       "      <td>False</td>\n",
       "      <td>False</td>\n",
       "      <td>True</td>\n",
       "    </tr>\n",
       "    <tr>\n",
       "      <th>Atlas</th>\n",
       "      <td>True</td>\n",
       "      <td>True</td>\n",
       "      <td>False</td>\n",
       "    </tr>\n",
       "    <tr>\n",
       "      <th>Mehmet</th>\n",
       "      <td>False</td>\n",
       "      <td>False</td>\n",
       "      <td>True</td>\n",
       "    </tr>\n",
       "  </tbody>\n",
       "</table>\n",
       "</div>"
      ],
      "text/plain": [
       "         Maas    Yas  Calisma Saati\n",
       "Atil    False   True           True\n",
       "Zeynep  False  False           True\n",
       "Atlas    True   True          False\n",
       "Mehmet  False  False           True"
      ]
     },
     "execution_count": 53,
     "metadata": {},
     "output_type": "execute_result"
    }
   ],
   "source": [
    "yeniDataFrame<0"
   ]
  },
  {
   "cell_type": "code",
   "execution_count": 54,
   "id": "5dbfaf18",
   "metadata": {},
   "outputs": [
    {
     "data": {
      "text/html": [
       "<div>\n",
       "<style scoped>\n",
       "    .dataframe tbody tr th:only-of-type {\n",
       "        vertical-align: middle;\n",
       "    }\n",
       "\n",
       "    .dataframe tbody tr th {\n",
       "        vertical-align: top;\n",
       "    }\n",
       "\n",
       "    .dataframe thead th {\n",
       "        text-align: right;\n",
       "    }\n",
       "</style>\n",
       "<table border=\"1\" class=\"dataframe\">\n",
       "  <thead>\n",
       "    <tr style=\"text-align: right;\">\n",
       "      <th></th>\n",
       "      <th>Maas</th>\n",
       "      <th>Yas</th>\n",
       "      <th>Calisma Saati</th>\n",
       "    </tr>\n",
       "  </thead>\n",
       "  <tbody>\n",
       "    <tr>\n",
       "      <th>Atil</th>\n",
       "      <td>NaN</td>\n",
       "      <td>-2.489298</td>\n",
       "      <td>-0.409326</td>\n",
       "    </tr>\n",
       "    <tr>\n",
       "      <th>Zeynep</th>\n",
       "      <td>NaN</td>\n",
       "      <td>NaN</td>\n",
       "      <td>-0.546654</td>\n",
       "    </tr>\n",
       "    <tr>\n",
       "      <th>Atlas</th>\n",
       "      <td>-0.731422</td>\n",
       "      <td>-0.384074</td>\n",
       "      <td>NaN</td>\n",
       "    </tr>\n",
       "    <tr>\n",
       "      <th>Mehmet</th>\n",
       "      <td>NaN</td>\n",
       "      <td>NaN</td>\n",
       "      <td>-0.453217</td>\n",
       "    </tr>\n",
       "  </tbody>\n",
       "</table>\n",
       "</div>"
      ],
      "text/plain": [
       "            Maas       Yas  Calisma Saati\n",
       "Atil         NaN -2.489298      -0.409326\n",
       "Zeynep       NaN       NaN      -0.546654\n",
       "Atlas  -0.731422 -0.384074            NaN\n",
       "Mehmet       NaN       NaN      -0.453217"
      ]
     },
     "execution_count": 54,
     "metadata": {},
     "output_type": "execute_result"
    }
   ],
   "source": [
    "yeniDataFrame[yeniDataFrame<0]"
   ]
  },
  {
   "cell_type": "code",
   "execution_count": 55,
   "id": "daf2f5a2",
   "metadata": {},
   "outputs": [
    {
     "data": {
      "text/html": [
       "<div>\n",
       "<style scoped>\n",
       "    .dataframe tbody tr th:only-of-type {\n",
       "        vertical-align: middle;\n",
       "    }\n",
       "\n",
       "    .dataframe tbody tr th {\n",
       "        vertical-align: top;\n",
       "    }\n",
       "\n",
       "    .dataframe thead th {\n",
       "        text-align: right;\n",
       "    }\n",
       "</style>\n",
       "<table border=\"1\" class=\"dataframe\">\n",
       "  <thead>\n",
       "    <tr style=\"text-align: right;\">\n",
       "      <th></th>\n",
       "      <th>Maas</th>\n",
       "      <th>Yas</th>\n",
       "      <th>Calisma Saati</th>\n",
       "    </tr>\n",
       "  </thead>\n",
       "  <tbody>\n",
       "    <tr>\n",
       "      <th>Atlas</th>\n",
       "      <td>-0.731422</td>\n",
       "      <td>-0.384074</td>\n",
       "      <td>0.978827</td>\n",
       "    </tr>\n",
       "  </tbody>\n",
       "</table>\n",
       "</div>"
      ],
      "text/plain": [
       "           Maas       Yas  Calisma Saati\n",
       "Atlas -0.731422 -0.384074       0.978827"
      ]
     },
     "execution_count": 55,
     "metadata": {},
     "output_type": "execute_result"
    }
   ],
   "source": [
    "yeniDataFrame[yeniDataFrame[\"Calisma Saati\"]>0]"
   ]
  },
  {
   "cell_type": "code",
   "execution_count": 56,
   "id": "710708ec",
   "metadata": {},
   "outputs": [
    {
     "data": {
      "text/html": [
       "<div>\n",
       "<style scoped>\n",
       "    .dataframe tbody tr th:only-of-type {\n",
       "        vertical-align: middle;\n",
       "    }\n",
       "\n",
       "    .dataframe tbody tr th {\n",
       "        vertical-align: top;\n",
       "    }\n",
       "\n",
       "    .dataframe thead th {\n",
       "        text-align: right;\n",
       "    }\n",
       "</style>\n",
       "<table border=\"1\" class=\"dataframe\">\n",
       "  <thead>\n",
       "    <tr style=\"text-align: right;\">\n",
       "      <th></th>\n",
       "      <th>index</th>\n",
       "      <th>Maas</th>\n",
       "      <th>Yas</th>\n",
       "      <th>Calisma Saati</th>\n",
       "    </tr>\n",
       "  </thead>\n",
       "  <tbody>\n",
       "    <tr>\n",
       "      <th>0</th>\n",
       "      <td>Atil</td>\n",
       "      <td>0.419540</td>\n",
       "      <td>-2.489298</td>\n",
       "      <td>-0.409326</td>\n",
       "    </tr>\n",
       "    <tr>\n",
       "      <th>1</th>\n",
       "      <td>Zeynep</td>\n",
       "      <td>1.176298</td>\n",
       "      <td>0.760282</td>\n",
       "      <td>-0.546654</td>\n",
       "    </tr>\n",
       "    <tr>\n",
       "      <th>2</th>\n",
       "      <td>Atlas</td>\n",
       "      <td>-0.731422</td>\n",
       "      <td>-0.384074</td>\n",
       "      <td>0.978827</td>\n",
       "    </tr>\n",
       "    <tr>\n",
       "      <th>3</th>\n",
       "      <td>Mehmet</td>\n",
       "      <td>0.282246</td>\n",
       "      <td>1.067987</td>\n",
       "      <td>-0.453217</td>\n",
       "    </tr>\n",
       "  </tbody>\n",
       "</table>\n",
       "</div>"
      ],
      "text/plain": [
       "    index      Maas       Yas  Calisma Saati\n",
       "0    Atil  0.419540 -2.489298      -0.409326\n",
       "1  Zeynep  1.176298  0.760282      -0.546654\n",
       "2   Atlas -0.731422 -0.384074       0.978827\n",
       "3  Mehmet  0.282246  1.067987      -0.453217"
      ]
     },
     "execution_count": 56,
     "metadata": {},
     "output_type": "execute_result"
    }
   ],
   "source": [
    "yeniDataFrame.reset_index()"
   ]
  },
  {
   "cell_type": "code",
   "execution_count": 57,
   "id": "e1ae3a41",
   "metadata": {},
   "outputs": [
    {
     "data": {
      "text/html": [
       "<div>\n",
       "<style scoped>\n",
       "    .dataframe tbody tr th:only-of-type {\n",
       "        vertical-align: middle;\n",
       "    }\n",
       "\n",
       "    .dataframe tbody tr th {\n",
       "        vertical-align: top;\n",
       "    }\n",
       "\n",
       "    .dataframe thead th {\n",
       "        text-align: right;\n",
       "    }\n",
       "</style>\n",
       "<table border=\"1\" class=\"dataframe\">\n",
       "  <thead>\n",
       "    <tr style=\"text-align: right;\">\n",
       "      <th></th>\n",
       "      <th>Maas</th>\n",
       "      <th>Yas</th>\n",
       "      <th>Calisma Saati</th>\n",
       "    </tr>\n",
       "  </thead>\n",
       "  <tbody>\n",
       "    <tr>\n",
       "      <th>Atil</th>\n",
       "      <td>0.419540</td>\n",
       "      <td>-2.489298</td>\n",
       "      <td>-0.409326</td>\n",
       "    </tr>\n",
       "    <tr>\n",
       "      <th>Zeynep</th>\n",
       "      <td>1.176298</td>\n",
       "      <td>0.760282</td>\n",
       "      <td>-0.546654</td>\n",
       "    </tr>\n",
       "    <tr>\n",
       "      <th>Atlas</th>\n",
       "      <td>-0.731422</td>\n",
       "      <td>-0.384074</td>\n",
       "      <td>0.978827</td>\n",
       "    </tr>\n",
       "    <tr>\n",
       "      <th>Mehmet</th>\n",
       "      <td>0.282246</td>\n",
       "      <td>1.067987</td>\n",
       "      <td>-0.453217</td>\n",
       "    </tr>\n",
       "  </tbody>\n",
       "</table>\n",
       "</div>"
      ],
      "text/plain": [
       "            Maas       Yas  Calisma Saati\n",
       "Atil    0.419540 -2.489298      -0.409326\n",
       "Zeynep  1.176298  0.760282      -0.546654\n",
       "Atlas  -0.731422 -0.384074       0.978827\n",
       "Mehmet  0.282246  1.067987      -0.453217"
      ]
     },
     "execution_count": 57,
     "metadata": {},
     "output_type": "execute_result"
    }
   ],
   "source": [
    "yeniDataFrame"
   ]
  },
  {
   "cell_type": "code",
   "execution_count": 58,
   "id": "9902f6da",
   "metadata": {},
   "outputs": [],
   "source": [
    "yeniIndeksListesi = [\"Ati\",\"Zey\",\"Atl\",\"Meh\"]"
   ]
  },
  {
   "cell_type": "code",
   "execution_count": 59,
   "id": "348133a0",
   "metadata": {},
   "outputs": [],
   "source": [
    "yeniDataFrame[\"Yeni Indeks\"] = yeniIndeksListesi "
   ]
  },
  {
   "cell_type": "code",
   "execution_count": 60,
   "id": "46611afe",
   "metadata": {},
   "outputs": [
    {
     "data": {
      "text/html": [
       "<div>\n",
       "<style scoped>\n",
       "    .dataframe tbody tr th:only-of-type {\n",
       "        vertical-align: middle;\n",
       "    }\n",
       "\n",
       "    .dataframe tbody tr th {\n",
       "        vertical-align: top;\n",
       "    }\n",
       "\n",
       "    .dataframe thead th {\n",
       "        text-align: right;\n",
       "    }\n",
       "</style>\n",
       "<table border=\"1\" class=\"dataframe\">\n",
       "  <thead>\n",
       "    <tr style=\"text-align: right;\">\n",
       "      <th></th>\n",
       "      <th>Maas</th>\n",
       "      <th>Yas</th>\n",
       "      <th>Calisma Saati</th>\n",
       "      <th>Yeni Indeks</th>\n",
       "    </tr>\n",
       "  </thead>\n",
       "  <tbody>\n",
       "    <tr>\n",
       "      <th>Atil</th>\n",
       "      <td>0.419540</td>\n",
       "      <td>-2.489298</td>\n",
       "      <td>-0.409326</td>\n",
       "      <td>Ati</td>\n",
       "    </tr>\n",
       "    <tr>\n",
       "      <th>Zeynep</th>\n",
       "      <td>1.176298</td>\n",
       "      <td>0.760282</td>\n",
       "      <td>-0.546654</td>\n",
       "      <td>Zey</td>\n",
       "    </tr>\n",
       "    <tr>\n",
       "      <th>Atlas</th>\n",
       "      <td>-0.731422</td>\n",
       "      <td>-0.384074</td>\n",
       "      <td>0.978827</td>\n",
       "      <td>Atl</td>\n",
       "    </tr>\n",
       "    <tr>\n",
       "      <th>Mehmet</th>\n",
       "      <td>0.282246</td>\n",
       "      <td>1.067987</td>\n",
       "      <td>-0.453217</td>\n",
       "      <td>Meh</td>\n",
       "    </tr>\n",
       "  </tbody>\n",
       "</table>\n",
       "</div>"
      ],
      "text/plain": [
       "            Maas       Yas  Calisma Saati Yeni Indeks\n",
       "Atil    0.419540 -2.489298      -0.409326         Ati\n",
       "Zeynep  1.176298  0.760282      -0.546654         Zey\n",
       "Atlas  -0.731422 -0.384074       0.978827         Atl\n",
       "Mehmet  0.282246  1.067987      -0.453217         Meh"
      ]
     },
     "execution_count": 60,
     "metadata": {},
     "output_type": "execute_result"
    }
   ],
   "source": [
    "yeniDataFrame"
   ]
  },
  {
   "cell_type": "code",
   "execution_count": 61,
   "id": "6790aa56",
   "metadata": {},
   "outputs": [
    {
     "data": {
      "text/html": [
       "<div>\n",
       "<style scoped>\n",
       "    .dataframe tbody tr th:only-of-type {\n",
       "        vertical-align: middle;\n",
       "    }\n",
       "\n",
       "    .dataframe tbody tr th {\n",
       "        vertical-align: top;\n",
       "    }\n",
       "\n",
       "    .dataframe thead th {\n",
       "        text-align: right;\n",
       "    }\n",
       "</style>\n",
       "<table border=\"1\" class=\"dataframe\">\n",
       "  <thead>\n",
       "    <tr style=\"text-align: right;\">\n",
       "      <th></th>\n",
       "      <th>Maas</th>\n",
       "      <th>Yas</th>\n",
       "      <th>Calisma Saati</th>\n",
       "    </tr>\n",
       "    <tr>\n",
       "      <th>Yeni Indeks</th>\n",
       "      <th></th>\n",
       "      <th></th>\n",
       "      <th></th>\n",
       "    </tr>\n",
       "  </thead>\n",
       "  <tbody>\n",
       "    <tr>\n",
       "      <th>Ati</th>\n",
       "      <td>0.419540</td>\n",
       "      <td>-2.489298</td>\n",
       "      <td>-0.409326</td>\n",
       "    </tr>\n",
       "    <tr>\n",
       "      <th>Zey</th>\n",
       "      <td>1.176298</td>\n",
       "      <td>0.760282</td>\n",
       "      <td>-0.546654</td>\n",
       "    </tr>\n",
       "    <tr>\n",
       "      <th>Atl</th>\n",
       "      <td>-0.731422</td>\n",
       "      <td>-0.384074</td>\n",
       "      <td>0.978827</td>\n",
       "    </tr>\n",
       "    <tr>\n",
       "      <th>Meh</th>\n",
       "      <td>0.282246</td>\n",
       "      <td>1.067987</td>\n",
       "      <td>-0.453217</td>\n",
       "    </tr>\n",
       "  </tbody>\n",
       "</table>\n",
       "</div>"
      ],
      "text/plain": [
       "                 Maas       Yas  Calisma Saati\n",
       "Yeni Indeks                                   \n",
       "Ati          0.419540 -2.489298      -0.409326\n",
       "Zey          1.176298  0.760282      -0.546654\n",
       "Atl         -0.731422 -0.384074       0.978827\n",
       "Meh          0.282246  1.067987      -0.453217"
      ]
     },
     "execution_count": 61,
     "metadata": {},
     "output_type": "execute_result"
    }
   ],
   "source": [
    "yeniDataFrame.set_index(\"Yeni Indeks\")"
   ]
  },
  {
   "cell_type": "markdown",
   "id": "dd1458d3",
   "metadata": {},
   "source": [
    "## MultiIndeks"
   ]
  },
  {
   "cell_type": "code",
   "execution_count": 62,
   "id": "9e4e25a2",
   "metadata": {},
   "outputs": [],
   "source": [
    "ilkIndeksler = [\"Simpson\",\"Simpson\",\"Simpson\",\"South Park\",\"South Park\",\"South Park\"]"
   ]
  },
  {
   "cell_type": "code",
   "execution_count": 63,
   "id": "84457392",
   "metadata": {},
   "outputs": [],
   "source": [
    "icIndeksler = [\"Homer\", \"Bart\", \"Marge\", \"Cartmen\", \"Kenny\", \"Kyle\"]"
   ]
  },
  {
   "cell_type": "code",
   "execution_count": 64,
   "id": "f6001214",
   "metadata": {},
   "outputs": [],
   "source": [
    "birlesmisIndeks = list(zip(ilkIndeksler,icIndeksler))"
   ]
  },
  {
   "cell_type": "code",
   "execution_count": 65,
   "id": "54f295c3",
   "metadata": {},
   "outputs": [
    {
     "data": {
      "text/plain": [
       "[('Simpson', 'Homer'),\n",
       " ('Simpson', 'Bart'),\n",
       " ('Simpson', 'Marge'),\n",
       " ('South Park', 'Cartmen'),\n",
       " ('South Park', 'Kenny'),\n",
       " ('South Park', 'Kyle')]"
      ]
     },
     "execution_count": 65,
     "metadata": {},
     "output_type": "execute_result"
    }
   ],
   "source": [
    "birlesmisIndeks"
   ]
  },
  {
   "cell_type": "code",
   "execution_count": 68,
   "id": "09e42c10",
   "metadata": {},
   "outputs": [],
   "source": [
    "birlesmisIndeks = pd.MultiIndex.from_tuples(birlesmisIndeks)"
   ]
  },
  {
   "cell_type": "code",
   "execution_count": 69,
   "id": "b7862d1a",
   "metadata": {},
   "outputs": [
    {
     "data": {
      "text/plain": [
       "MultiIndex([(   'Simpson',   'Homer'),\n",
       "            (   'Simpson',    'Bart'),\n",
       "            (   'Simpson',   'Marge'),\n",
       "            ('South Park', 'Cartmen'),\n",
       "            ('South Park',   'Kenny'),\n",
       "            ('South Park',    'Kyle')],\n",
       "           )"
      ]
     },
     "execution_count": 69,
     "metadata": {},
     "output_type": "execute_result"
    }
   ],
   "source": [
    "birlesmisIndeks"
   ]
  },
  {
   "cell_type": "code",
   "execution_count": 70,
   "id": "a8a31b47",
   "metadata": {},
   "outputs": [],
   "source": [
    "benimCizgiFilmListem = [[40,\"A\"],[10,\"B\"],[30,\"C\"],[9,\"D\"],[10,\"E\"],[11,\"F\"]]"
   ]
  },
  {
   "cell_type": "code",
   "execution_count": 71,
   "id": "9c109764",
   "metadata": {},
   "outputs": [
    {
     "data": {
      "text/plain": [
       "[[40, 'A'], [10, 'B'], [30, 'C'], [9, 'D'], [10, 'E'], [11, 'F']]"
      ]
     },
     "execution_count": 71,
     "metadata": {},
     "output_type": "execute_result"
    }
   ],
   "source": [
    "benimCizgiFilmListem"
   ]
  },
  {
   "cell_type": "code",
   "execution_count": 72,
   "id": "b11fdd38",
   "metadata": {},
   "outputs": [],
   "source": [
    "cizgiFilmNumpy = np.array(benimCizgiFilmListem)"
   ]
  },
  {
   "cell_type": "code",
   "execution_count": 78,
   "id": "f86bf3b3",
   "metadata": {},
   "outputs": [],
   "source": [
    "cizgiFilmDataFrame = pd.DataFrame(cizgiFilmNumpy,index=birlesmisIndeks,columns=[\"Yas\",\"Meslek\"])"
   ]
  },
  {
   "cell_type": "code",
   "execution_count": 79,
   "id": "70a4ca34",
   "metadata": {},
   "outputs": [
    {
     "data": {
      "text/html": [
       "<div>\n",
       "<style scoped>\n",
       "    .dataframe tbody tr th:only-of-type {\n",
       "        vertical-align: middle;\n",
       "    }\n",
       "\n",
       "    .dataframe tbody tr th {\n",
       "        vertical-align: top;\n",
       "    }\n",
       "\n",
       "    .dataframe thead th {\n",
       "        text-align: right;\n",
       "    }\n",
       "</style>\n",
       "<table border=\"1\" class=\"dataframe\">\n",
       "  <thead>\n",
       "    <tr style=\"text-align: right;\">\n",
       "      <th></th>\n",
       "      <th></th>\n",
       "      <th>Yas</th>\n",
       "      <th>Meslek</th>\n",
       "    </tr>\n",
       "  </thead>\n",
       "  <tbody>\n",
       "    <tr>\n",
       "      <th rowspan=\"3\" valign=\"top\">Simpson</th>\n",
       "      <th>Homer</th>\n",
       "      <td>40</td>\n",
       "      <td>A</td>\n",
       "    </tr>\n",
       "    <tr>\n",
       "      <th>Bart</th>\n",
       "      <td>10</td>\n",
       "      <td>B</td>\n",
       "    </tr>\n",
       "    <tr>\n",
       "      <th>Marge</th>\n",
       "      <td>30</td>\n",
       "      <td>C</td>\n",
       "    </tr>\n",
       "    <tr>\n",
       "      <th rowspan=\"3\" valign=\"top\">South Park</th>\n",
       "      <th>Cartmen</th>\n",
       "      <td>9</td>\n",
       "      <td>D</td>\n",
       "    </tr>\n",
       "    <tr>\n",
       "      <th>Kenny</th>\n",
       "      <td>10</td>\n",
       "      <td>E</td>\n",
       "    </tr>\n",
       "    <tr>\n",
       "      <th>Kyle</th>\n",
       "      <td>11</td>\n",
       "      <td>F</td>\n",
       "    </tr>\n",
       "  </tbody>\n",
       "</table>\n",
       "</div>"
      ],
      "text/plain": [
       "                   Yas Meslek\n",
       "Simpson    Homer    40      A\n",
       "           Bart     10      B\n",
       "           Marge    30      C\n",
       "South Park Cartmen   9      D\n",
       "           Kenny    10      E\n",
       "           Kyle     11      F"
      ]
     },
     "execution_count": 79,
     "metadata": {},
     "output_type": "execute_result"
    }
   ],
   "source": [
    "cizgiFilmDataFrame"
   ]
  },
  {
   "cell_type": "code",
   "execution_count": 81,
   "id": "17230709",
   "metadata": {},
   "outputs": [
    {
     "data": {
      "text/plain": [
       "Yas       40\n",
       "Meslek     A\n",
       "Name: (Simpson, Homer), dtype: object"
      ]
     },
     "execution_count": 81,
     "metadata": {},
     "output_type": "execute_result"
    }
   ],
   "source": [
    "cizgiFilmDataFrame.loc[\"Simpson\",\"Homer\"]"
   ]
  },
  {
   "cell_type": "code",
   "execution_count": 82,
   "id": "2c1b752b",
   "metadata": {},
   "outputs": [],
   "source": [
    "cizgiFilmDataFrame.index.names = [\"Film Adı\",\"İsim\"]"
   ]
  },
  {
   "cell_type": "code",
   "execution_count": 83,
   "id": "a9e7e678",
   "metadata": {},
   "outputs": [
    {
     "data": {
      "text/html": [
       "<div>\n",
       "<style scoped>\n",
       "    .dataframe tbody tr th:only-of-type {\n",
       "        vertical-align: middle;\n",
       "    }\n",
       "\n",
       "    .dataframe tbody tr th {\n",
       "        vertical-align: top;\n",
       "    }\n",
       "\n",
       "    .dataframe thead th {\n",
       "        text-align: right;\n",
       "    }\n",
       "</style>\n",
       "<table border=\"1\" class=\"dataframe\">\n",
       "  <thead>\n",
       "    <tr style=\"text-align: right;\">\n",
       "      <th></th>\n",
       "      <th></th>\n",
       "      <th>Yas</th>\n",
       "      <th>Meslek</th>\n",
       "    </tr>\n",
       "    <tr>\n",
       "      <th>Film Adı</th>\n",
       "      <th>İsim</th>\n",
       "      <th></th>\n",
       "      <th></th>\n",
       "    </tr>\n",
       "  </thead>\n",
       "  <tbody>\n",
       "    <tr>\n",
       "      <th rowspan=\"3\" valign=\"top\">Simpson</th>\n",
       "      <th>Homer</th>\n",
       "      <td>40</td>\n",
       "      <td>A</td>\n",
       "    </tr>\n",
       "    <tr>\n",
       "      <th>Bart</th>\n",
       "      <td>10</td>\n",
       "      <td>B</td>\n",
       "    </tr>\n",
       "    <tr>\n",
       "      <th>Marge</th>\n",
       "      <td>30</td>\n",
       "      <td>C</td>\n",
       "    </tr>\n",
       "    <tr>\n",
       "      <th rowspan=\"3\" valign=\"top\">South Park</th>\n",
       "      <th>Cartmen</th>\n",
       "      <td>9</td>\n",
       "      <td>D</td>\n",
       "    </tr>\n",
       "    <tr>\n",
       "      <th>Kenny</th>\n",
       "      <td>10</td>\n",
       "      <td>E</td>\n",
       "    </tr>\n",
       "    <tr>\n",
       "      <th>Kyle</th>\n",
       "      <td>11</td>\n",
       "      <td>F</td>\n",
       "    </tr>\n",
       "  </tbody>\n",
       "</table>\n",
       "</div>"
      ],
      "text/plain": [
       "                   Yas Meslek\n",
       "Film Adı   İsim              \n",
       "Simpson    Homer    40      A\n",
       "           Bart     10      B\n",
       "           Marge    30      C\n",
       "South Park Cartmen   9      D\n",
       "           Kenny    10      E\n",
       "           Kyle     11      F"
      ]
     },
     "execution_count": 83,
     "metadata": {},
     "output_type": "execute_result"
    }
   ],
   "source": [
    "cizgiFilmDataFrame"
   ]
  },
  {
   "cell_type": "code",
   "execution_count": null,
   "id": "5b6248cf",
   "metadata": {},
   "outputs": [],
   "source": []
  }
 ],
 "metadata": {
  "kernelspec": {
   "display_name": "Python 3 (ipykernel)",
   "language": "python",
   "name": "python3"
  },
  "language_info": {
   "codemirror_mode": {
    "name": "ipython",
    "version": 3
   },
   "file_extension": ".py",
   "mimetype": "text/x-python",
   "name": "python",
   "nbconvert_exporter": "python",
   "pygments_lexer": "ipython3",
   "version": "3.11.5"
  }
 },
 "nbformat": 4,
 "nbformat_minor": 5
}
