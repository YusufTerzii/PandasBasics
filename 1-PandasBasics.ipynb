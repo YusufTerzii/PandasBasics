{
 "cells": [
  {
   "cell_type": "code",
   "execution_count": 2,
   "id": "333b3714",
   "metadata": {},
   "outputs": [],
   "source": [
    "import numpy as np\n",
    "import pandas as pd"
   ]
  },
  {
   "cell_type": "markdown",
   "id": "80f6c38b",
   "metadata": {},
   "source": [
    "## Series"
   ]
  },
  {
   "cell_type": "code",
   "execution_count": 3,
   "id": "2ccce5f5",
   "metadata": {},
   "outputs": [],
   "source": [
    "benimSozluk = {\"Yusuf\":22 , \"Zeynep\":40, \"Mehmet\":30}"
   ]
  },
  {
   "cell_type": "code",
   "execution_count": 4,
   "id": "120f313b",
   "metadata": {},
   "outputs": [
    {
     "data": {
      "text/plain": [
       "Yusuf     22\n",
       "Zeynep    40\n",
       "Mehmet    30\n",
       "dtype: int64"
      ]
     },
     "execution_count": 4,
     "metadata": {},
     "output_type": "execute_result"
    }
   ],
   "source": [
    "pd.Series(benimSozluk)"
   ]
  },
  {
   "cell_type": "code",
   "execution_count": 5,
   "id": "5efee179",
   "metadata": {},
   "outputs": [],
   "source": [
    "benimYaslarim = [22,40,30]\n",
    "benimIsimlerim = [\"Yusuf\", \"Zeynep\", \"Mehmet\"]"
   ]
  },
  {
   "cell_type": "code",
   "execution_count": 6,
   "id": "7020b80c",
   "metadata": {},
   "outputs": [
    {
     "data": {
      "text/plain": [
       "0    22\n",
       "1    40\n",
       "2    30\n",
       "dtype: int64"
      ]
     },
     "execution_count": 6,
     "metadata": {},
     "output_type": "execute_result"
    }
   ],
   "source": [
    "pd.Series(benimYaslarim)"
   ]
  },
  {
   "cell_type": "code",
   "execution_count": 7,
   "id": "d8f9ee3a",
   "metadata": {},
   "outputs": [
    {
     "data": {
      "text/plain": [
       "Yusuf     22\n",
       "Zeynep    40\n",
       "Mehmet    30\n",
       "dtype: int64"
      ]
     },
     "execution_count": 7,
     "metadata": {},
     "output_type": "execute_result"
    }
   ],
   "source": [
    "pd.Series(benimYaslarim, benimIsimlerim)"
   ]
  },
  {
   "cell_type": "code",
   "execution_count": 8,
   "id": "086dd97e",
   "metadata": {},
   "outputs": [
    {
     "data": {
      "text/plain": [
       "Yusuf     22\n",
       "Zeynep    40\n",
       "Mehmet    30\n",
       "dtype: int64"
      ]
     },
     "execution_count": 8,
     "metadata": {},
     "output_type": "execute_result"
    }
   ],
   "source": [
    "pd.Series(data=benimYaslarim , index=benimIsimlerim)"
   ]
  },
  {
   "cell_type": "code",
   "execution_count": 9,
   "id": "e8dc3375",
   "metadata": {},
   "outputs": [],
   "source": [
    "numpyDizisi = np.array([22,40,30])"
   ]
  },
  {
   "cell_type": "code",
   "execution_count": 10,
   "id": "7e9afb95",
   "metadata": {},
   "outputs": [
    {
     "data": {
      "text/plain": [
       "array([22, 40, 30])"
      ]
     },
     "execution_count": 10,
     "metadata": {},
     "output_type": "execute_result"
    }
   ],
   "source": [
    "numpyDizisi"
   ]
  },
  {
   "cell_type": "code",
   "execution_count": 11,
   "id": "307f8dcc",
   "metadata": {},
   "outputs": [
    {
     "data": {
      "text/plain": [
       "0    22\n",
       "1    40\n",
       "2    30\n",
       "dtype: int32"
      ]
     },
     "execution_count": 11,
     "metadata": {},
     "output_type": "execute_result"
    }
   ],
   "source": [
    "pd.Series(numpyDizisi)"
   ]
  },
  {
   "cell_type": "code",
   "execution_count": 12,
   "id": "3e134c10",
   "metadata": {},
   "outputs": [
    {
     "data": {
      "text/plain": [
       "Yusuf     22\n",
       "Zeynep    40\n",
       "Mehmet    30\n",
       "dtype: int32"
      ]
     },
     "execution_count": 12,
     "metadata": {},
     "output_type": "execute_result"
    }
   ],
   "source": [
    "pd.Series(numpyDizisi,benimIsimlerim)"
   ]
  },
  {
   "cell_type": "code",
   "execution_count": 15,
   "id": "5526f6ab",
   "metadata": {},
   "outputs": [
    {
     "data": {
      "text/plain": [
       "1    Yusuf\n",
       "2    Terzi\n",
       "3    Osman\n",
       "dtype: object"
      ]
     },
     "execution_count": 15,
     "metadata": {},
     "output_type": "execute_result"
    }
   ],
   "source": [
    "pd.Series([\"Yusuf\",\"Terzi\",\"Osman\"],[1,2,3])"
   ]
  },
  {
   "cell_type": "code",
   "execution_count": 16,
   "id": "a84eebd5",
   "metadata": {},
   "outputs": [],
   "source": [
    "yarismaSonucu1 = pd.Series([10,5,1],[\"Yusuf\",\"Terzi\",\"Osman\"])"
   ]
  },
  {
   "cell_type": "code",
   "execution_count": 17,
   "id": "c9454dd4",
   "metadata": {},
   "outputs": [
    {
     "data": {
      "text/plain": [
       "Yusuf    10\n",
       "Terzi     5\n",
       "Osman     1\n",
       "dtype: int64"
      ]
     },
     "execution_count": 17,
     "metadata": {},
     "output_type": "execute_result"
    }
   ],
   "source": [
    "yarismaSonucu1"
   ]
  },
  {
   "cell_type": "code",
   "execution_count": 18,
   "id": "fed3b348",
   "metadata": {},
   "outputs": [],
   "source": [
    "yarismaSonucu2 = pd.Series([20,10,8],[\"Yusuf\",\"Terzi\",\"Osman\"])"
   ]
  },
  {
   "cell_type": "code",
   "execution_count": 21,
   "id": "4e3d7cc5",
   "metadata": {},
   "outputs": [
    {
     "data": {
      "text/plain": [
       "Yusuf    20\n",
       "Terzi    10\n",
       "Osman     8\n",
       "dtype: int64"
      ]
     },
     "execution_count": 21,
     "metadata": {},
     "output_type": "execute_result"
    }
   ],
   "source": [
    "yarismaSonucu2"
   ]
  },
  {
   "cell_type": "code",
   "execution_count": 22,
   "id": "058e7ad0",
   "metadata": {},
   "outputs": [
    {
     "data": {
      "text/plain": [
       "20"
      ]
     },
     "execution_count": 22,
     "metadata": {},
     "output_type": "execute_result"
    }
   ],
   "source": [
    "yarismaSonucu2[\"Yusuf\"]"
   ]
  },
  {
   "cell_type": "code",
   "execution_count": 23,
   "id": "c92cb136",
   "metadata": {},
   "outputs": [],
   "source": [
    "Sonuc = yarismaSonucu1+yarismaSonucu2"
   ]
  },
  {
   "cell_type": "code",
   "execution_count": 24,
   "id": "f1b66af4",
   "metadata": {},
   "outputs": [
    {
     "data": {
      "text/plain": [
       "Yusuf    30\n",
       "Terzi    15\n",
       "Osman     9\n",
       "dtype: int64"
      ]
     },
     "execution_count": 24,
     "metadata": {},
     "output_type": "execute_result"
    }
   ],
   "source": [
    "Sonuc"
   ]
  },
  {
   "cell_type": "code",
   "execution_count": 26,
   "id": "7b360c51",
   "metadata": {},
   "outputs": [],
   "source": [
    "farklıSeries1= pd.Series([20,10,3],[\"a\",\"b\",\"c\"])"
   ]
  },
  {
   "cell_type": "code",
   "execution_count": 28,
   "id": "390a40f7",
   "metadata": {},
   "outputs": [],
   "source": [
    "farklıSeries2 = pd.Series([30,5,1],[\"a\",\"v\",\"c\"])"
   ]
  },
  {
   "cell_type": "code",
   "execution_count": 29,
   "id": "c6d6542e",
   "metadata": {},
   "outputs": [],
   "source": [
    "sonSonuc = farklıSeries1+farklıSeries2"
   ]
  },
  {
   "cell_type": "code",
   "execution_count": 30,
   "id": "4e4c0312",
   "metadata": {},
   "outputs": [
    {
     "data": {
      "text/plain": [
       "a    50.0\n",
       "b     NaN\n",
       "c     4.0\n",
       "v     NaN\n",
       "dtype: float64"
      ]
     },
     "execution_count": 30,
     "metadata": {},
     "output_type": "execute_result"
    }
   ],
   "source": [
    "sonSonuc"
   ]
  },
  {
   "cell_type": "code",
   "execution_count": null,
   "id": "19827202",
   "metadata": {},
   "outputs": [],
   "source": []
  }
 ],
 "metadata": {
  "kernelspec": {
   "display_name": "Python 3 (ipykernel)",
   "language": "python",
   "name": "python3"
  },
  "language_info": {
   "codemirror_mode": {
    "name": "ipython",
    "version": 3
   },
   "file_extension": ".py",
   "mimetype": "text/x-python",
   "name": "python",
   "nbconvert_exporter": "python",
   "pygments_lexer": "ipython3",
   "version": "3.11.5"
  }
 },
 "nbformat": 4,
 "nbformat_minor": 5
}
